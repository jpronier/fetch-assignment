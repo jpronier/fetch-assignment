{
 "cells": [
  {
   "cell_type": "code",
   "execution_count": 1,
   "metadata": {},
   "outputs": [],
   "source": [
    "import pandas as pd\n",
    "import matplotlib.pyplot as plt\n",
    "import seaborn as sns\n",
    "from datetime import datetime"
   ]
  },
  {
   "cell_type": "code",
   "execution_count": 2,
   "metadata": {},
   "outputs": [],
   "source": [
    "# Load the preprocessed dataframes from eda.ipynb directly in quality.ipynb\n",
    "users = pd.read_pickle(\"../data/processed/users_processed.pkl\")\n",
    "receipts = pd.read_pickle(\"../data/processed/receipts_processed.pkl\")\n",
    "item_df = pd.read_pickle(\"../data/processed/items_processed.pkl\")\n",
    "brands = pd.read_pickle(\"../data/processed/brands_processed.pkl\")\n"
   ]
  },
  {
   "cell_type": "markdown",
   "metadata": {},
   "source": [
    "# Main things we are going to look at for Data Quality Issues\n",
    "\n",
    "* 1. Missing values\n",
    "* 2. Duplicates\n",
    "* 3. Outliers\n"
   ]
  },
  {
   "cell_type": "markdown",
   "metadata": {},
   "source": [
    "### But first checking the import of the dataframes\n"
   ]
  },
  {
   "cell_type": "code",
   "execution_count": 17,
   "metadata": {},
   "outputs": [
    {
     "data": {
      "text/html": [
       "<div>\n",
       "<style scoped>\n",
       "    .dataframe tbody tr th:only-of-type {\n",
       "        vertical-align: middle;\n",
       "    }\n",
       "\n",
       "    .dataframe tbody tr th {\n",
       "        vertical-align: top;\n",
       "    }\n",
       "\n",
       "    .dataframe thead th {\n",
       "        text-align: right;\n",
       "    }\n",
       "</style>\n",
       "<table border=\"1\" class=\"dataframe\">\n",
       "  <thead>\n",
       "    <tr style=\"text-align: right;\">\n",
       "      <th></th>\n",
       "      <th>receipt_id</th>\n",
       "      <th>userId</th>\n",
       "      <th>bonusPointsEarned</th>\n",
       "      <th>bonusPointsEarnedReason</th>\n",
       "      <th>createDate</th>\n",
       "      <th>dateScanned</th>\n",
       "      <th>finishedDate</th>\n",
       "      <th>modifyDate</th>\n",
       "      <th>pointsAwardedDate</th>\n",
       "      <th>purchaseDate</th>\n",
       "      <th>purchasedItemCount</th>\n",
       "      <th>rewardsReceiptItemList</th>\n",
       "      <th>rewardsReceiptStatus</th>\n",
       "      <th>totalSpent</th>\n",
       "    </tr>\n",
       "  </thead>\n",
       "  <tbody>\n",
       "    <tr>\n",
       "      <th>0</th>\n",
       "      <td>5ff1e1eb0a720f0523000575</td>\n",
       "      <td>5ff1e1eacfcf6c399c274ae6</td>\n",
       "      <td>500.0</td>\n",
       "      <td>Receipt number 2 completed, bonus point schedu...</td>\n",
       "      <td>2021-01-03 15:25:31</td>\n",
       "      <td>2021-01-03 15:25:31</td>\n",
       "      <td>2021-01-03 15:25:31</td>\n",
       "      <td>2021-01-03 15:25:36</td>\n",
       "      <td>2021-01-03 15:25:31</td>\n",
       "      <td>2021-01-03 00:00:00</td>\n",
       "      <td>5.0</td>\n",
       "      <td>[{'barcode': '4011', 'description': 'ITEM NOT ...</td>\n",
       "      <td>FINISHED</td>\n",
       "      <td>26.0</td>\n",
       "    </tr>\n",
       "    <tr>\n",
       "      <th>1</th>\n",
       "      <td>5ff1e1bb0a720f052300056b</td>\n",
       "      <td>5ff1e194b6a9d73a3a9f1052</td>\n",
       "      <td>150.0</td>\n",
       "      <td>Receipt number 5 completed, bonus point schedu...</td>\n",
       "      <td>2021-01-03 15:24:43</td>\n",
       "      <td>2021-01-03 15:24:43</td>\n",
       "      <td>2021-01-03 15:24:43</td>\n",
       "      <td>2021-01-03 15:24:48</td>\n",
       "      <td>2021-01-03 15:24:43</td>\n",
       "      <td>2021-01-02 15:24:43</td>\n",
       "      <td>2.0</td>\n",
       "      <td>[{'barcode': '4011', 'description': 'ITEM NOT ...</td>\n",
       "      <td>FINISHED</td>\n",
       "      <td>11.0</td>\n",
       "    </tr>\n",
       "    <tr>\n",
       "      <th>2</th>\n",
       "      <td>5ff1e1f10a720f052300057a</td>\n",
       "      <td>5ff1e1f1cfcf6c399c274b0b</td>\n",
       "      <td>5.0</td>\n",
       "      <td>All-receipts receipt bonus</td>\n",
       "      <td>2021-01-03 15:25:37</td>\n",
       "      <td>2021-01-03 15:25:37</td>\n",
       "      <td>NaT</td>\n",
       "      <td>2021-01-03 15:25:42</td>\n",
       "      <td>NaT</td>\n",
       "      <td>2021-01-03 00:00:00</td>\n",
       "      <td>1.0</td>\n",
       "      <td>[{'needsFetchReview': False, 'partnerItemId': ...</td>\n",
       "      <td>REJECTED</td>\n",
       "      <td>10.0</td>\n",
       "    </tr>\n",
       "    <tr>\n",
       "      <th>3</th>\n",
       "      <td>5ff1e1ee0a7214ada100056f</td>\n",
       "      <td>5ff1e1eacfcf6c399c274ae6</td>\n",
       "      <td>5.0</td>\n",
       "      <td>All-receipts receipt bonus</td>\n",
       "      <td>2021-01-03 15:25:34</td>\n",
       "      <td>2021-01-03 15:25:34</td>\n",
       "      <td>2021-01-03 15:25:34</td>\n",
       "      <td>2021-01-03 15:25:39</td>\n",
       "      <td>2021-01-03 15:25:34</td>\n",
       "      <td>2021-01-03 00:00:00</td>\n",
       "      <td>4.0</td>\n",
       "      <td>[{'barcode': '4011', 'description': 'ITEM NOT ...</td>\n",
       "      <td>FINISHED</td>\n",
       "      <td>28.0</td>\n",
       "    </tr>\n",
       "    <tr>\n",
       "      <th>4</th>\n",
       "      <td>5ff1e1d20a7214ada1000561</td>\n",
       "      <td>5ff1e194b6a9d73a3a9f1052</td>\n",
       "      <td>5.0</td>\n",
       "      <td>All-receipts receipt bonus</td>\n",
       "      <td>2021-01-03 15:25:06</td>\n",
       "      <td>2021-01-03 15:25:06</td>\n",
       "      <td>2021-01-03 15:25:11</td>\n",
       "      <td>2021-01-03 15:25:11</td>\n",
       "      <td>2021-01-03 15:25:06</td>\n",
       "      <td>2021-01-02 15:25:06</td>\n",
       "      <td>2.0</td>\n",
       "      <td>[{'barcode': '4011', 'description': 'ITEM NOT ...</td>\n",
       "      <td>FINISHED</td>\n",
       "      <td>1.0</td>\n",
       "    </tr>\n",
       "  </tbody>\n",
       "</table>\n",
       "</div>"
      ],
      "text/plain": [
       "                 receipt_id                    userId  bonusPointsEarned  \\\n",
       "0  5ff1e1eb0a720f0523000575  5ff1e1eacfcf6c399c274ae6              500.0   \n",
       "1  5ff1e1bb0a720f052300056b  5ff1e194b6a9d73a3a9f1052              150.0   \n",
       "2  5ff1e1f10a720f052300057a  5ff1e1f1cfcf6c399c274b0b                5.0   \n",
       "3  5ff1e1ee0a7214ada100056f  5ff1e1eacfcf6c399c274ae6                5.0   \n",
       "4  5ff1e1d20a7214ada1000561  5ff1e194b6a9d73a3a9f1052                5.0   \n",
       "\n",
       "                             bonusPointsEarnedReason          createDate  \\\n",
       "0  Receipt number 2 completed, bonus point schedu... 2021-01-03 15:25:31   \n",
       "1  Receipt number 5 completed, bonus point schedu... 2021-01-03 15:24:43   \n",
       "2                         All-receipts receipt bonus 2021-01-03 15:25:37   \n",
       "3                         All-receipts receipt bonus 2021-01-03 15:25:34   \n",
       "4                         All-receipts receipt bonus 2021-01-03 15:25:06   \n",
       "\n",
       "          dateScanned        finishedDate          modifyDate  \\\n",
       "0 2021-01-03 15:25:31 2021-01-03 15:25:31 2021-01-03 15:25:36   \n",
       "1 2021-01-03 15:24:43 2021-01-03 15:24:43 2021-01-03 15:24:48   \n",
       "2 2021-01-03 15:25:37                 NaT 2021-01-03 15:25:42   \n",
       "3 2021-01-03 15:25:34 2021-01-03 15:25:34 2021-01-03 15:25:39   \n",
       "4 2021-01-03 15:25:06 2021-01-03 15:25:11 2021-01-03 15:25:11   \n",
       "\n",
       "    pointsAwardedDate        purchaseDate  purchasedItemCount  \\\n",
       "0 2021-01-03 15:25:31 2021-01-03 00:00:00                 5.0   \n",
       "1 2021-01-03 15:24:43 2021-01-02 15:24:43                 2.0   \n",
       "2                 NaT 2021-01-03 00:00:00                 1.0   \n",
       "3 2021-01-03 15:25:34 2021-01-03 00:00:00                 4.0   \n",
       "4 2021-01-03 15:25:06 2021-01-02 15:25:06                 2.0   \n",
       "\n",
       "                              rewardsReceiptItemList rewardsReceiptStatus  \\\n",
       "0  [{'barcode': '4011', 'description': 'ITEM NOT ...             FINISHED   \n",
       "1  [{'barcode': '4011', 'description': 'ITEM NOT ...             FINISHED   \n",
       "2  [{'needsFetchReview': False, 'partnerItemId': ...             REJECTED   \n",
       "3  [{'barcode': '4011', 'description': 'ITEM NOT ...             FINISHED   \n",
       "4  [{'barcode': '4011', 'description': 'ITEM NOT ...             FINISHED   \n",
       "\n",
       "   totalSpent  \n",
       "0        26.0  \n",
       "1        11.0  \n",
       "2        10.0  \n",
       "3        28.0  \n",
       "4         1.0  "
      ]
     },
     "execution_count": 17,
     "metadata": {},
     "output_type": "execute_result"
    }
   ],
   "source": [
    "users.head()"
   ]
  },
  {
   "cell_type": "code",
   "execution_count": 4,
   "metadata": {},
   "outputs": [
    {
     "data": {
      "text/html": [
       "<div>\n",
       "<style scoped>\n",
       "    .dataframe tbody tr th:only-of-type {\n",
       "        vertical-align: middle;\n",
       "    }\n",
       "\n",
       "    .dataframe tbody tr th {\n",
       "        vertical-align: top;\n",
       "    }\n",
       "\n",
       "    .dataframe thead th {\n",
       "        text-align: right;\n",
       "    }\n",
       "</style>\n",
       "<table border=\"1\" class=\"dataframe\">\n",
       "  <thead>\n",
       "    <tr style=\"text-align: right;\">\n",
       "      <th></th>\n",
       "      <th>receipt_id</th>\n",
       "      <th>userId</th>\n",
       "      <th>bonusPointsEarned</th>\n",
       "      <th>bonusPointsEarnedReason</th>\n",
       "      <th>createDate</th>\n",
       "      <th>dateScanned</th>\n",
       "      <th>finishedDate</th>\n",
       "      <th>modifyDate</th>\n",
       "      <th>pointsAwardedDate</th>\n",
       "      <th>purchaseDate</th>\n",
       "      <th>purchasedItemCount</th>\n",
       "      <th>rewardsReceiptItemList</th>\n",
       "      <th>rewardsReceiptStatus</th>\n",
       "      <th>totalSpent</th>\n",
       "    </tr>\n",
       "  </thead>\n",
       "  <tbody>\n",
       "    <tr>\n",
       "      <th>0</th>\n",
       "      <td>5ff1e1eb0a720f0523000575</td>\n",
       "      <td>5ff1e1eacfcf6c399c274ae6</td>\n",
       "      <td>500.0</td>\n",
       "      <td>Receipt number 2 completed, bonus point schedu...</td>\n",
       "      <td>2021-01-03 15:25:31</td>\n",
       "      <td>2021-01-03 15:25:31</td>\n",
       "      <td>2021-01-03 15:25:31</td>\n",
       "      <td>2021-01-03 15:25:36</td>\n",
       "      <td>2021-01-03 15:25:31</td>\n",
       "      <td>2021-01-03 00:00:00</td>\n",
       "      <td>5.0</td>\n",
       "      <td>[{'barcode': '4011', 'description': 'ITEM NOT ...</td>\n",
       "      <td>FINISHED</td>\n",
       "      <td>26.0</td>\n",
       "    </tr>\n",
       "    <tr>\n",
       "      <th>1</th>\n",
       "      <td>5ff1e1bb0a720f052300056b</td>\n",
       "      <td>5ff1e194b6a9d73a3a9f1052</td>\n",
       "      <td>150.0</td>\n",
       "      <td>Receipt number 5 completed, bonus point schedu...</td>\n",
       "      <td>2021-01-03 15:24:43</td>\n",
       "      <td>2021-01-03 15:24:43</td>\n",
       "      <td>2021-01-03 15:24:43</td>\n",
       "      <td>2021-01-03 15:24:48</td>\n",
       "      <td>2021-01-03 15:24:43</td>\n",
       "      <td>2021-01-02 15:24:43</td>\n",
       "      <td>2.0</td>\n",
       "      <td>[{'barcode': '4011', 'description': 'ITEM NOT ...</td>\n",
       "      <td>FINISHED</td>\n",
       "      <td>11.0</td>\n",
       "    </tr>\n",
       "    <tr>\n",
       "      <th>2</th>\n",
       "      <td>5ff1e1f10a720f052300057a</td>\n",
       "      <td>5ff1e1f1cfcf6c399c274b0b</td>\n",
       "      <td>5.0</td>\n",
       "      <td>All-receipts receipt bonus</td>\n",
       "      <td>2021-01-03 15:25:37</td>\n",
       "      <td>2021-01-03 15:25:37</td>\n",
       "      <td>NaT</td>\n",
       "      <td>2021-01-03 15:25:42</td>\n",
       "      <td>NaT</td>\n",
       "      <td>2021-01-03 00:00:00</td>\n",
       "      <td>1.0</td>\n",
       "      <td>[{'needsFetchReview': False, 'partnerItemId': ...</td>\n",
       "      <td>REJECTED</td>\n",
       "      <td>10.0</td>\n",
       "    </tr>\n",
       "    <tr>\n",
       "      <th>3</th>\n",
       "      <td>5ff1e1ee0a7214ada100056f</td>\n",
       "      <td>5ff1e1eacfcf6c399c274ae6</td>\n",
       "      <td>5.0</td>\n",
       "      <td>All-receipts receipt bonus</td>\n",
       "      <td>2021-01-03 15:25:34</td>\n",
       "      <td>2021-01-03 15:25:34</td>\n",
       "      <td>2021-01-03 15:25:34</td>\n",
       "      <td>2021-01-03 15:25:39</td>\n",
       "      <td>2021-01-03 15:25:34</td>\n",
       "      <td>2021-01-03 00:00:00</td>\n",
       "      <td>4.0</td>\n",
       "      <td>[{'barcode': '4011', 'description': 'ITEM NOT ...</td>\n",
       "      <td>FINISHED</td>\n",
       "      <td>28.0</td>\n",
       "    </tr>\n",
       "    <tr>\n",
       "      <th>4</th>\n",
       "      <td>5ff1e1d20a7214ada1000561</td>\n",
       "      <td>5ff1e194b6a9d73a3a9f1052</td>\n",
       "      <td>5.0</td>\n",
       "      <td>All-receipts receipt bonus</td>\n",
       "      <td>2021-01-03 15:25:06</td>\n",
       "      <td>2021-01-03 15:25:06</td>\n",
       "      <td>2021-01-03 15:25:11</td>\n",
       "      <td>2021-01-03 15:25:11</td>\n",
       "      <td>2021-01-03 15:25:06</td>\n",
       "      <td>2021-01-02 15:25:06</td>\n",
       "      <td>2.0</td>\n",
       "      <td>[{'barcode': '4011', 'description': 'ITEM NOT ...</td>\n",
       "      <td>FINISHED</td>\n",
       "      <td>1.0</td>\n",
       "    </tr>\n",
       "  </tbody>\n",
       "</table>\n",
       "</div>"
      ],
      "text/plain": [
       "                 receipt_id                    userId  bonusPointsEarned  \\\n",
       "0  5ff1e1eb0a720f0523000575  5ff1e1eacfcf6c399c274ae6              500.0   \n",
       "1  5ff1e1bb0a720f052300056b  5ff1e194b6a9d73a3a9f1052              150.0   \n",
       "2  5ff1e1f10a720f052300057a  5ff1e1f1cfcf6c399c274b0b                5.0   \n",
       "3  5ff1e1ee0a7214ada100056f  5ff1e1eacfcf6c399c274ae6                5.0   \n",
       "4  5ff1e1d20a7214ada1000561  5ff1e194b6a9d73a3a9f1052                5.0   \n",
       "\n",
       "                             bonusPointsEarnedReason          createDate  \\\n",
       "0  Receipt number 2 completed, bonus point schedu... 2021-01-03 15:25:31   \n",
       "1  Receipt number 5 completed, bonus point schedu... 2021-01-03 15:24:43   \n",
       "2                         All-receipts receipt bonus 2021-01-03 15:25:37   \n",
       "3                         All-receipts receipt bonus 2021-01-03 15:25:34   \n",
       "4                         All-receipts receipt bonus 2021-01-03 15:25:06   \n",
       "\n",
       "          dateScanned        finishedDate          modifyDate  \\\n",
       "0 2021-01-03 15:25:31 2021-01-03 15:25:31 2021-01-03 15:25:36   \n",
       "1 2021-01-03 15:24:43 2021-01-03 15:24:43 2021-01-03 15:24:48   \n",
       "2 2021-01-03 15:25:37                 NaT 2021-01-03 15:25:42   \n",
       "3 2021-01-03 15:25:34 2021-01-03 15:25:34 2021-01-03 15:25:39   \n",
       "4 2021-01-03 15:25:06 2021-01-03 15:25:11 2021-01-03 15:25:11   \n",
       "\n",
       "    pointsAwardedDate        purchaseDate  purchasedItemCount  \\\n",
       "0 2021-01-03 15:25:31 2021-01-03 00:00:00                 5.0   \n",
       "1 2021-01-03 15:24:43 2021-01-02 15:24:43                 2.0   \n",
       "2                 NaT 2021-01-03 00:00:00                 1.0   \n",
       "3 2021-01-03 15:25:34 2021-01-03 00:00:00                 4.0   \n",
       "4 2021-01-03 15:25:06 2021-01-02 15:25:06                 2.0   \n",
       "\n",
       "                              rewardsReceiptItemList rewardsReceiptStatus  \\\n",
       "0  [{'barcode': '4011', 'description': 'ITEM NOT ...             FINISHED   \n",
       "1  [{'barcode': '4011', 'description': 'ITEM NOT ...             FINISHED   \n",
       "2  [{'needsFetchReview': False, 'partnerItemId': ...             REJECTED   \n",
       "3  [{'barcode': '4011', 'description': 'ITEM NOT ...             FINISHED   \n",
       "4  [{'barcode': '4011', 'description': 'ITEM NOT ...             FINISHED   \n",
       "\n",
       "   totalSpent  \n",
       "0        26.0  \n",
       "1        11.0  \n",
       "2        10.0  \n",
       "3        28.0  \n",
       "4         1.0  "
      ]
     },
     "execution_count": 4,
     "metadata": {},
     "output_type": "execute_result"
    }
   ],
   "source": [
    "receipts.head()"
   ]
  },
  {
   "cell_type": "code",
   "execution_count": 5,
   "metadata": {},
   "outputs": [
    {
     "data": {
      "text/html": [
       "<div>\n",
       "<style scoped>\n",
       "    .dataframe tbody tr th:only-of-type {\n",
       "        vertical-align: middle;\n",
       "    }\n",
       "\n",
       "    .dataframe tbody tr th {\n",
       "        vertical-align: top;\n",
       "    }\n",
       "\n",
       "    .dataframe thead th {\n",
       "        text-align: right;\n",
       "    }\n",
       "</style>\n",
       "<table border=\"1\" class=\"dataframe\">\n",
       "  <thead>\n",
       "    <tr style=\"text-align: right;\">\n",
       "      <th></th>\n",
       "      <th>receipt_id</th>\n",
       "      <th>barcode</th>\n",
       "      <th>description</th>\n",
       "      <th>finalPrice</th>\n",
       "      <th>itemPrice</th>\n",
       "      <th>needsFetchReview</th>\n",
       "      <th>partnerItemId</th>\n",
       "      <th>preventTargetGapPoints</th>\n",
       "      <th>quantityPurchased</th>\n",
       "      <th>userFlaggedBarcode</th>\n",
       "      <th>...</th>\n",
       "      <th>itemNumber</th>\n",
       "      <th>originalMetaBriteQuantityPurchased</th>\n",
       "      <th>pointsEarned</th>\n",
       "      <th>targetPrice</th>\n",
       "      <th>competitiveProduct</th>\n",
       "      <th>originalFinalPrice</th>\n",
       "      <th>originalMetaBriteItemPrice</th>\n",
       "      <th>deleted</th>\n",
       "      <th>priceAfterCoupon</th>\n",
       "      <th>metabriteCampaignId</th>\n",
       "    </tr>\n",
       "  </thead>\n",
       "  <tbody>\n",
       "    <tr>\n",
       "      <th>0</th>\n",
       "      <td>5ff1e1eb0a720f0523000575</td>\n",
       "      <td>4011</td>\n",
       "      <td>ITEM NOT FOUND</td>\n",
       "      <td>26.00</td>\n",
       "      <td>26.00</td>\n",
       "      <td>False</td>\n",
       "      <td>1</td>\n",
       "      <td>True</td>\n",
       "      <td>5.0</td>\n",
       "      <td>4011</td>\n",
       "      <td>...</td>\n",
       "      <td>NaN</td>\n",
       "      <td>NaN</td>\n",
       "      <td>NaN</td>\n",
       "      <td>NaN</td>\n",
       "      <td>NaN</td>\n",
       "      <td>NaN</td>\n",
       "      <td>NaN</td>\n",
       "      <td>NaN</td>\n",
       "      <td>NaN</td>\n",
       "      <td>NaN</td>\n",
       "    </tr>\n",
       "    <tr>\n",
       "      <th>1</th>\n",
       "      <td>5ff1e1bb0a720f052300056b</td>\n",
       "      <td>4011</td>\n",
       "      <td>ITEM NOT FOUND</td>\n",
       "      <td>1</td>\n",
       "      <td>1</td>\n",
       "      <td>NaN</td>\n",
       "      <td>1</td>\n",
       "      <td>NaN</td>\n",
       "      <td>1.0</td>\n",
       "      <td>NaN</td>\n",
       "      <td>...</td>\n",
       "      <td>NaN</td>\n",
       "      <td>NaN</td>\n",
       "      <td>NaN</td>\n",
       "      <td>NaN</td>\n",
       "      <td>NaN</td>\n",
       "      <td>NaN</td>\n",
       "      <td>NaN</td>\n",
       "      <td>NaN</td>\n",
       "      <td>NaN</td>\n",
       "      <td>NaN</td>\n",
       "    </tr>\n",
       "    <tr>\n",
       "      <th>2</th>\n",
       "      <td>5ff1e1bb0a720f052300056b</td>\n",
       "      <td>028400642255</td>\n",
       "      <td>DORITOS TORTILLA CHIP SPICY SWEET CHILI REDUCE...</td>\n",
       "      <td>10.00</td>\n",
       "      <td>10.00</td>\n",
       "      <td>True</td>\n",
       "      <td>2</td>\n",
       "      <td>True</td>\n",
       "      <td>1.0</td>\n",
       "      <td>028400642255</td>\n",
       "      <td>...</td>\n",
       "      <td>NaN</td>\n",
       "      <td>NaN</td>\n",
       "      <td>NaN</td>\n",
       "      <td>NaN</td>\n",
       "      <td>NaN</td>\n",
       "      <td>NaN</td>\n",
       "      <td>NaN</td>\n",
       "      <td>NaN</td>\n",
       "      <td>NaN</td>\n",
       "      <td>NaN</td>\n",
       "    </tr>\n",
       "    <tr>\n",
       "      <th>3</th>\n",
       "      <td>5ff1e1f10a720f052300057a</td>\n",
       "      <td>NaN</td>\n",
       "      <td>NaN</td>\n",
       "      <td>NaN</td>\n",
       "      <td>NaN</td>\n",
       "      <td>False</td>\n",
       "      <td>1</td>\n",
       "      <td>True</td>\n",
       "      <td>NaN</td>\n",
       "      <td>4011</td>\n",
       "      <td>...</td>\n",
       "      <td>NaN</td>\n",
       "      <td>NaN</td>\n",
       "      <td>NaN</td>\n",
       "      <td>NaN</td>\n",
       "      <td>NaN</td>\n",
       "      <td>NaN</td>\n",
       "      <td>NaN</td>\n",
       "      <td>NaN</td>\n",
       "      <td>NaN</td>\n",
       "      <td>NaN</td>\n",
       "    </tr>\n",
       "    <tr>\n",
       "      <th>4</th>\n",
       "      <td>5ff1e1ee0a7214ada100056f</td>\n",
       "      <td>4011</td>\n",
       "      <td>ITEM NOT FOUND</td>\n",
       "      <td>28.00</td>\n",
       "      <td>28.00</td>\n",
       "      <td>False</td>\n",
       "      <td>1</td>\n",
       "      <td>True</td>\n",
       "      <td>4.0</td>\n",
       "      <td>4011</td>\n",
       "      <td>...</td>\n",
       "      <td>NaN</td>\n",
       "      <td>NaN</td>\n",
       "      <td>NaN</td>\n",
       "      <td>NaN</td>\n",
       "      <td>NaN</td>\n",
       "      <td>NaN</td>\n",
       "      <td>NaN</td>\n",
       "      <td>NaN</td>\n",
       "      <td>NaN</td>\n",
       "      <td>NaN</td>\n",
       "    </tr>\n",
       "  </tbody>\n",
       "</table>\n",
       "<p>5 rows × 35 columns</p>\n",
       "</div>"
      ],
      "text/plain": [
       "                 receipt_id       barcode  \\\n",
       "0  5ff1e1eb0a720f0523000575          4011   \n",
       "1  5ff1e1bb0a720f052300056b          4011   \n",
       "2  5ff1e1bb0a720f052300056b  028400642255   \n",
       "3  5ff1e1f10a720f052300057a           NaN   \n",
       "4  5ff1e1ee0a7214ada100056f          4011   \n",
       "\n",
       "                                         description finalPrice itemPrice  \\\n",
       "0                                     ITEM NOT FOUND      26.00     26.00   \n",
       "1                                     ITEM NOT FOUND          1         1   \n",
       "2  DORITOS TORTILLA CHIP SPICY SWEET CHILI REDUCE...      10.00     10.00   \n",
       "3                                                NaN        NaN       NaN   \n",
       "4                                     ITEM NOT FOUND      28.00     28.00   \n",
       "\n",
       "  needsFetchReview partnerItemId preventTargetGapPoints  quantityPurchased  \\\n",
       "0            False             1                   True                5.0   \n",
       "1              NaN             1                    NaN                1.0   \n",
       "2             True             2                   True                1.0   \n",
       "3            False             1                   True                NaN   \n",
       "4            False             1                   True                4.0   \n",
       "\n",
       "  userFlaggedBarcode  ... itemNumber originalMetaBriteQuantityPurchased  \\\n",
       "0               4011  ...        NaN                                NaN   \n",
       "1                NaN  ...        NaN                                NaN   \n",
       "2       028400642255  ...        NaN                                NaN   \n",
       "3               4011  ...        NaN                                NaN   \n",
       "4               4011  ...        NaN                                NaN   \n",
       "\n",
       "   pointsEarned targetPrice competitiveProduct originalFinalPrice  \\\n",
       "0           NaN         NaN                NaN                NaN   \n",
       "1           NaN         NaN                NaN                NaN   \n",
       "2           NaN         NaN                NaN                NaN   \n",
       "3           NaN         NaN                NaN                NaN   \n",
       "4           NaN         NaN                NaN                NaN   \n",
       "\n",
       "  originalMetaBriteItemPrice deleted priceAfterCoupon metabriteCampaignId  \n",
       "0                        NaN     NaN              NaN                 NaN  \n",
       "1                        NaN     NaN              NaN                 NaN  \n",
       "2                        NaN     NaN              NaN                 NaN  \n",
       "3                        NaN     NaN              NaN                 NaN  \n",
       "4                        NaN     NaN              NaN                 NaN  \n",
       "\n",
       "[5 rows x 35 columns]"
      ]
     },
     "execution_count": 5,
     "metadata": {},
     "output_type": "execute_result"
    }
   ],
   "source": [
    "item_df.head()"
   ]
  },
  {
   "cell_type": "code",
   "execution_count": 6,
   "metadata": {},
   "outputs": [
    {
     "data": {
      "text/html": [
       "<div>\n",
       "<style scoped>\n",
       "    .dataframe tbody tr th:only-of-type {\n",
       "        vertical-align: middle;\n",
       "    }\n",
       "\n",
       "    .dataframe tbody tr th {\n",
       "        vertical-align: top;\n",
       "    }\n",
       "\n",
       "    .dataframe thead th {\n",
       "        text-align: right;\n",
       "    }\n",
       "</style>\n",
       "<table border=\"1\" class=\"dataframe\">\n",
       "  <thead>\n",
       "    <tr style=\"text-align: right;\">\n",
       "      <th></th>\n",
       "      <th>brand_id</th>\n",
       "      <th>cpg_id</th>\n",
       "      <th>barcode</th>\n",
       "      <th>category</th>\n",
       "      <th>categoryCode</th>\n",
       "      <th>name</th>\n",
       "      <th>topBrand</th>\n",
       "      <th>brandCode</th>\n",
       "    </tr>\n",
       "  </thead>\n",
       "  <tbody>\n",
       "    <tr>\n",
       "      <th>0</th>\n",
       "      <td>601ac115be37ce2ead437551</td>\n",
       "      <td>601ac114be37ce2ead437550</td>\n",
       "      <td>511111019862</td>\n",
       "      <td>Baking</td>\n",
       "      <td>BAKING</td>\n",
       "      <td>test brand @1612366101024</td>\n",
       "      <td>False</td>\n",
       "      <td>NaN</td>\n",
       "    </tr>\n",
       "    <tr>\n",
       "      <th>1</th>\n",
       "      <td>601c5460be37ce2ead43755f</td>\n",
       "      <td>5332f5fbe4b03c9a25efd0ba</td>\n",
       "      <td>511111519928</td>\n",
       "      <td>Beverages</td>\n",
       "      <td>BEVERAGES</td>\n",
       "      <td>Starbucks</td>\n",
       "      <td>False</td>\n",
       "      <td>STARBUCKS</td>\n",
       "    </tr>\n",
       "    <tr>\n",
       "      <th>2</th>\n",
       "      <td>601ac142be37ce2ead43755d</td>\n",
       "      <td>601ac142be37ce2ead437559</td>\n",
       "      <td>511111819905</td>\n",
       "      <td>Baking</td>\n",
       "      <td>BAKING</td>\n",
       "      <td>test brand @1612366146176</td>\n",
       "      <td>False</td>\n",
       "      <td>TEST BRANDCODE @1612366146176</td>\n",
       "    </tr>\n",
       "    <tr>\n",
       "      <th>3</th>\n",
       "      <td>601ac142be37ce2ead43755a</td>\n",
       "      <td>601ac142be37ce2ead437559</td>\n",
       "      <td>511111519874</td>\n",
       "      <td>Baking</td>\n",
       "      <td>BAKING</td>\n",
       "      <td>test brand @1612366146051</td>\n",
       "      <td>False</td>\n",
       "      <td>TEST BRANDCODE @1612366146051</td>\n",
       "    </tr>\n",
       "    <tr>\n",
       "      <th>4</th>\n",
       "      <td>601ac142be37ce2ead43755e</td>\n",
       "      <td>5332fa12e4b03c9a25efd1e7</td>\n",
       "      <td>511111319917</td>\n",
       "      <td>Candy &amp; Sweets</td>\n",
       "      <td>CANDY_AND_SWEETS</td>\n",
       "      <td>test brand @1612366146827</td>\n",
       "      <td>False</td>\n",
       "      <td>TEST BRANDCODE @1612366146827</td>\n",
       "    </tr>\n",
       "  </tbody>\n",
       "</table>\n",
       "</div>"
      ],
      "text/plain": [
       "                   brand_id                    cpg_id       barcode  \\\n",
       "0  601ac115be37ce2ead437551  601ac114be37ce2ead437550  511111019862   \n",
       "1  601c5460be37ce2ead43755f  5332f5fbe4b03c9a25efd0ba  511111519928   \n",
       "2  601ac142be37ce2ead43755d  601ac142be37ce2ead437559  511111819905   \n",
       "3  601ac142be37ce2ead43755a  601ac142be37ce2ead437559  511111519874   \n",
       "4  601ac142be37ce2ead43755e  5332fa12e4b03c9a25efd1e7  511111319917   \n",
       "\n",
       "         category      categoryCode                       name  topBrand  \\\n",
       "0          Baking            BAKING  test brand @1612366101024     False   \n",
       "1       Beverages         BEVERAGES                  Starbucks     False   \n",
       "2          Baking            BAKING  test brand @1612366146176     False   \n",
       "3          Baking            BAKING  test brand @1612366146051     False   \n",
       "4  Candy & Sweets  CANDY_AND_SWEETS  test brand @1612366146827     False   \n",
       "\n",
       "                       brandCode  \n",
       "0                            NaN  \n",
       "1                      STARBUCKS  \n",
       "2  TEST BRANDCODE @1612366146176  \n",
       "3  TEST BRANDCODE @1612366146051  \n",
       "4  TEST BRANDCODE @1612366146827  "
      ]
     },
     "execution_count": 6,
     "metadata": {},
     "output_type": "execute_result"
    }
   ],
   "source": [
    "brands.head()"
   ]
  },
  {
   "cell_type": "markdown",
   "metadata": {},
   "source": [
    "### Let's have a quick look at the dataframes info"
   ]
  },
  {
   "cell_type": "code",
   "execution_count": 10,
   "metadata": {},
   "outputs": [
    {
     "name": "stdout",
     "output_type": "stream",
     "text": [
      "<class 'pandas.core.frame.DataFrame'>\n",
      "RangeIndex: 495 entries, 0 to 494\n",
      "Data columns (total 7 columns):\n",
      " #   Column        Non-Null Count  Dtype         \n",
      "---  ------        --------------  -----         \n",
      " 0   user_id       495 non-null    object        \n",
      " 1   role          495 non-null    object        \n",
      " 2   createdDate   495 non-null    datetime64[ns]\n",
      " 3   lastLogin     433 non-null    datetime64[ns]\n",
      " 4   active        495 non-null    bool          \n",
      " 5   state         439 non-null    object        \n",
      " 6   signUpSource  447 non-null    object        \n",
      "dtypes: bool(1), datetime64[ns](2), object(4)\n",
      "memory usage: 23.8+ KB\n"
     ]
    }
   ],
   "source": [
    "users.info()\n"
   ]
  },
  {
   "cell_type": "code",
   "execution_count": 11,
   "metadata": {},
   "outputs": [
    {
     "name": "stdout",
     "output_type": "stream",
     "text": [
      "<class 'pandas.core.frame.DataFrame'>\n",
      "RangeIndex: 1119 entries, 0 to 1118\n",
      "Data columns (total 14 columns):\n",
      " #   Column                   Non-Null Count  Dtype         \n",
      "---  ------                   --------------  -----         \n",
      " 0   receipt_id               1119 non-null   object        \n",
      " 1   userId                   1119 non-null   object        \n",
      " 2   bonusPointsEarned        544 non-null    float64       \n",
      " 3   bonusPointsEarnedReason  544 non-null    object        \n",
      " 4   createDate               1119 non-null   datetime64[ns]\n",
      " 5   dateScanned              1119 non-null   datetime64[ns]\n",
      " 6   finishedDate             568 non-null    datetime64[ns]\n",
      " 7   modifyDate               1119 non-null   datetime64[ns]\n",
      " 8   pointsAwardedDate        537 non-null    datetime64[ns]\n",
      " 9   purchaseDate             671 non-null    datetime64[ns]\n",
      " 10  purchasedItemCount       635 non-null    float64       \n",
      " 11  rewardsReceiptItemList   679 non-null    object        \n",
      " 12  rewardsReceiptStatus     1119 non-null   object        \n",
      " 13  totalSpent               684 non-null    float64       \n",
      "dtypes: datetime64[ns](6), float64(3), object(5)\n",
      "memory usage: 122.5+ KB\n"
     ]
    }
   ],
   "source": [
    "receipts.info()"
   ]
  },
  {
   "cell_type": "code",
   "execution_count": 13,
   "metadata": {},
   "outputs": [
    {
     "name": "stdout",
     "output_type": "stream",
     "text": [
      "<class 'pandas.core.frame.DataFrame'>\n",
      "RangeIndex: 7381 entries, 0 to 7380\n",
      "Data columns (total 35 columns):\n",
      " #   Column                              Non-Null Count  Dtype  \n",
      "---  ------                              --------------  -----  \n",
      " 0   receipt_id                          7381 non-null   object \n",
      " 1   barcode                             3090 non-null   object \n",
      " 2   description                         6560 non-null   object \n",
      " 3   finalPrice                          6767 non-null   object \n",
      " 4   itemPrice                           6767 non-null   object \n",
      " 5   needsFetchReview                    813 non-null    object \n",
      " 6   partnerItemId                       6941 non-null   object \n",
      " 7   preventTargetGapPoints              358 non-null    object \n",
      " 8   quantityPurchased                   6767 non-null   float64\n",
      " 9   userFlaggedBarcode                  337 non-null    object \n",
      " 10  userFlaggedNewItem                  323 non-null    object \n",
      " 11  userFlaggedPrice                    299 non-null    object \n",
      " 12  userFlaggedQuantity                 299 non-null    float64\n",
      " 13  needsFetchReviewReason              219 non-null    object \n",
      " 14  pointsNotAwardedReason              340 non-null    object \n",
      " 15  pointsPayerId                       1267 non-null   object \n",
      " 16  rewardsGroup                        1731 non-null   object \n",
      " 17  rewardsProductPartnerId             2269 non-null   object \n",
      " 18  userFlaggedDescription              205 non-null    object \n",
      " 19  originalMetaBriteBarcode            71 non-null     object \n",
      " 20  originalMetaBriteDescription        10 non-null     object \n",
      " 21  brandCode                           2600 non-null   object \n",
      " 22  competitorRewardsGroup              275 non-null    object \n",
      " 23  discountedItemPrice                 5769 non-null   object \n",
      " 24  originalReceiptItemText             5760 non-null   object \n",
      " 25  itemNumber                          153 non-null    object \n",
      " 26  originalMetaBriteQuantityPurchased  15 non-null     float64\n",
      " 27  pointsEarned                        927 non-null    object \n",
      " 28  targetPrice                         378 non-null    object \n",
      " 29  competitiveProduct                  645 non-null    object \n",
      " 30  originalFinalPrice                  9 non-null      object \n",
      " 31  originalMetaBriteItemPrice          9 non-null      object \n",
      " 32  deleted                             9 non-null      object \n",
      " 33  priceAfterCoupon                    956 non-null    object \n",
      " 34  metabriteCampaignId                 863 non-null    object \n",
      "dtypes: float64(3), object(32)\n",
      "memory usage: 2.0+ MB\n"
     ]
    }
   ],
   "source": [
    "item_df.info()"
   ]
  },
  {
   "cell_type": "code",
   "execution_count": 15,
   "metadata": {},
   "outputs": [
    {
     "name": "stdout",
     "output_type": "stream",
     "text": [
      "<class 'pandas.core.frame.DataFrame'>\n",
      "RangeIndex: 1167 entries, 0 to 1166\n",
      "Data columns (total 8 columns):\n",
      " #   Column        Non-Null Count  Dtype \n",
      "---  ------        --------------  ----- \n",
      " 0   brand_id      1167 non-null   object\n",
      " 1   cpg_id        1167 non-null   object\n",
      " 2   barcode       1167 non-null   int64 \n",
      " 3   category      1012 non-null   object\n",
      " 4   categoryCode  517 non-null    object\n",
      " 5   name          1167 non-null   object\n",
      " 6   topBrand      1167 non-null   bool  \n",
      " 7   brandCode     933 non-null    object\n",
      "dtypes: bool(1), int64(1), object(6)\n",
      "memory usage: 65.1+ KB\n"
     ]
    }
   ],
   "source": [
    "brands.info()"
   ]
  },
  {
   "cell_type": "markdown",
   "metadata": {},
   "source": [
    "It seems like the data types are correct. However, it appears that there are a lot of missing values, especially in the item_df dataframe."
   ]
  },
  {
   "cell_type": "markdown",
   "metadata": {},
   "source": [
    "## Missing Values"
   ]
  },
  {
   "cell_type": "code",
   "execution_count": 19,
   "metadata": {},
   "outputs": [
    {
     "data": {
      "text/plain": [
       "user_id          0\n",
       "role             0\n",
       "createdDate      0\n",
       "lastLogin       62\n",
       "active           0\n",
       "state           56\n",
       "signUpSource    48\n",
       "dtype: int64"
      ]
     },
     "execution_count": 19,
     "metadata": {},
     "output_type": "execute_result"
    }
   ],
   "source": [
    "users.isna().sum()"
   ]
  },
  {
   "cell_type": "code",
   "execution_count": 12,
   "metadata": {},
   "outputs": [
    {
     "data": {
      "text/plain": [
       "receipt_id                   0\n",
       "userId                       0\n",
       "bonusPointsEarned          575\n",
       "bonusPointsEarnedReason    575\n",
       "createDate                   0\n",
       "dateScanned                  0\n",
       "finishedDate               551\n",
       "modifyDate                   0\n",
       "pointsAwardedDate          582\n",
       "purchaseDate               448\n",
       "purchasedItemCount         484\n",
       "rewardsReceiptItemList     440\n",
       "rewardsReceiptStatus         0\n",
       "totalSpent                 435\n",
       "dtype: int64"
      ]
     },
     "execution_count": 12,
     "metadata": {},
     "output_type": "execute_result"
    }
   ],
   "source": [
    "receipts.isna().sum()"
   ]
  },
  {
   "cell_type": "code",
   "execution_count": 14,
   "metadata": {},
   "outputs": [
    {
     "data": {
      "text/plain": [
       "receipt_id                               0\n",
       "barcode                               4291\n",
       "description                            821\n",
       "finalPrice                             614\n",
       "itemPrice                              614\n",
       "needsFetchReview                      6568\n",
       "partnerItemId                          440\n",
       "preventTargetGapPoints                7023\n",
       "quantityPurchased                      614\n",
       "userFlaggedBarcode                    7044\n",
       "userFlaggedNewItem                    7058\n",
       "userFlaggedPrice                      7082\n",
       "userFlaggedQuantity                   7082\n",
       "needsFetchReviewReason                7162\n",
       "pointsNotAwardedReason                7041\n",
       "pointsPayerId                         6114\n",
       "rewardsGroup                          5650\n",
       "rewardsProductPartnerId               5112\n",
       "userFlaggedDescription                7176\n",
       "originalMetaBriteBarcode              7310\n",
       "originalMetaBriteDescription          7371\n",
       "brandCode                             4781\n",
       "competitorRewardsGroup                7106\n",
       "discountedItemPrice                   1612\n",
       "originalReceiptItemText               1621\n",
       "itemNumber                            7228\n",
       "originalMetaBriteQuantityPurchased    7366\n",
       "pointsEarned                          6454\n",
       "targetPrice                           7003\n",
       "competitiveProduct                    6736\n",
       "originalFinalPrice                    7372\n",
       "originalMetaBriteItemPrice            7372\n",
       "deleted                               7372\n",
       "priceAfterCoupon                      6425\n",
       "metabriteCampaignId                   6518\n",
       "dtype: int64"
      ]
     },
     "execution_count": 14,
     "metadata": {},
     "output_type": "execute_result"
    }
   ],
   "source": [
    "item_df.isna().sum()"
   ]
  },
  {
   "cell_type": "markdown",
   "metadata": {},
   "source": [
    "Let's look at the missing values in terms of percentage of the total data"
   ]
  },
  {
   "cell_type": "code",
   "execution_count": 26,
   "metadata": {},
   "outputs": [
    {
     "data": {
      "text/plain": [
       "deleted                               99.9\n",
       "originalMetaBriteItemPrice            99.9\n",
       "originalMetaBriteDescription          99.9\n",
       "originalFinalPrice                    99.9\n",
       "originalMetaBriteQuantityPurchased    99.8\n",
       "originalMetaBriteBarcode              99.0\n",
       "itemNumber                            97.9\n",
       "userFlaggedDescription                97.2\n",
       "needsFetchReviewReason                97.0\n",
       "competitorRewardsGroup                96.3\n",
       "userFlaggedPrice                      95.9\n",
       "userFlaggedQuantity                   95.9\n",
       "userFlaggedNewItem                    95.6\n",
       "userFlaggedBarcode                    95.4\n",
       "pointsNotAwardedReason                95.4\n",
       "preventTargetGapPoints                95.1\n",
       "targetPrice                           94.9\n",
       "competitiveProduct                    91.3\n",
       "needsFetchReview                      89.0\n",
       "metabriteCampaignId                   88.3\n",
       "pointsEarned                          87.4\n",
       "priceAfterCoupon                      87.0\n",
       "pointsPayerId                         82.8\n",
       "rewardsGroup                          76.5\n",
       "rewardsProductPartnerId               69.3\n",
       "brandCode                             64.8\n",
       "barcode                               58.1\n",
       "originalReceiptItemText               22.0\n",
       "discountedItemPrice                   21.8\n",
       "description                           11.1\n",
       "quantityPurchased                      8.3\n",
       "itemPrice                              8.3\n",
       "finalPrice                             8.3\n",
       "partnerItemId                          6.0\n",
       "receipt_id                             0.0\n",
       "dtype: float64"
      ]
     },
     "execution_count": 26,
     "metadata": {},
     "output_type": "execute_result"
    }
   ],
   "source": [
    "na_perc = round((item_df.isna().sum() / len(item_df)) * 100, 1).sort_values(\n",
    "    ascending=False\n",
    ")\n",
    "na_perc"
   ]
  },
  {
   "cell_type": "code",
   "execution_count": 28,
   "metadata": {},
   "outputs": [
    {
     "name": "stdout",
     "output_type": "stream",
     "text": [
      "Number of columns with more than 50% missing values: 27\n"
     ]
    }
   ],
   "source": [
    "# missing_percentages = round((item_df.isna().sum() / len(item_df)) * 100, 1)\n",
    "columns_over_50 = (na_perc > 50).sum()\n",
    "print(f\"Number of columns with more than 50% missing values: {columns_over_50}\")\n"
   ]
  },
  {
   "cell_type": "markdown",
   "metadata": {},
   "source": [
    "Out of 35 columns in item_df 27 have more than 50% missing values. To correctly handle the missing values, we need to understand their cause and ask what is the specific goal with that data, as this will impact the strategy to best handle them (replace with value/mean/median/mode, drop, etc...)\n",
    "\n"
   ]
  },
  {
   "cell_type": "code",
   "execution_count": 16,
   "metadata": {},
   "outputs": [
    {
     "data": {
      "text/plain": [
       "brand_id          0\n",
       "cpg_id            0\n",
       "barcode           0\n",
       "category        155\n",
       "categoryCode    650\n",
       "name              0\n",
       "topBrand          0\n",
       "brandCode       234\n",
       "dtype: int64"
      ]
     },
     "execution_count": 16,
     "metadata": {},
     "output_type": "execute_result"
    }
   ],
   "source": [
    "brands.isna().sum()"
   ]
  },
  {
   "cell_type": "markdown",
   "metadata": {},
   "source": [
    "Overall, the dataframes have a lot of missing values. This is a data quality issue that we need to address."
   ]
  },
  {
   "cell_type": "code",
   "execution_count": null,
   "metadata": {},
   "outputs": [],
   "source": []
  },
  {
   "cell_type": "markdown",
   "metadata": {},
   "source": [
    "## Duplicates"
   ]
  },
  {
   "cell_type": "code",
   "execution_count": 40,
   "metadata": {},
   "outputs": [
    {
     "data": {
      "text/plain": [
       "np.int64(283)"
      ]
     },
     "execution_count": 40,
     "metadata": {},
     "output_type": "execute_result"
    }
   ],
   "source": [
    "users[\"user_id\"].duplicated().sum()"
   ]
  },
  {
   "cell_type": "code",
   "execution_count": 35,
   "metadata": {},
   "outputs": [
    {
     "data": {
      "text/html": [
       "<div>\n",
       "<style scoped>\n",
       "    .dataframe tbody tr th:only-of-type {\n",
       "        vertical-align: middle;\n",
       "    }\n",
       "\n",
       "    .dataframe tbody tr th {\n",
       "        vertical-align: top;\n",
       "    }\n",
       "\n",
       "    .dataframe thead th {\n",
       "        text-align: right;\n",
       "    }\n",
       "</style>\n",
       "<table border=\"1\" class=\"dataframe\">\n",
       "  <thead>\n",
       "    <tr style=\"text-align: right;\">\n",
       "      <th></th>\n",
       "      <th>user_id</th>\n",
       "      <th>role</th>\n",
       "      <th>createdDate</th>\n",
       "      <th>lastLogin</th>\n",
       "      <th>active</th>\n",
       "      <th>state</th>\n",
       "      <th>signUpSource</th>\n",
       "    </tr>\n",
       "  </thead>\n",
       "  <tbody>\n",
       "    <tr>\n",
       "      <th>1</th>\n",
       "      <td>5ff1e194b6a9d73a3a9f1052</td>\n",
       "      <td>consumer</td>\n",
       "      <td>2021-01-03 15:24:04.800</td>\n",
       "      <td>2021-01-03 15:25:37.858</td>\n",
       "      <td>True</td>\n",
       "      <td>WI</td>\n",
       "      <td>Email</td>\n",
       "    </tr>\n",
       "    <tr>\n",
       "      <th>2</th>\n",
       "      <td>5ff1e194b6a9d73a3a9f1052</td>\n",
       "      <td>consumer</td>\n",
       "      <td>2021-01-03 15:24:04.800</td>\n",
       "      <td>2021-01-03 15:25:37.858</td>\n",
       "      <td>True</td>\n",
       "      <td>WI</td>\n",
       "      <td>Email</td>\n",
       "    </tr>\n",
       "    <tr>\n",
       "      <th>4</th>\n",
       "      <td>5ff1e194b6a9d73a3a9f1052</td>\n",
       "      <td>consumer</td>\n",
       "      <td>2021-01-03 15:24:04.800</td>\n",
       "      <td>2021-01-03 15:25:37.858</td>\n",
       "      <td>True</td>\n",
       "      <td>WI</td>\n",
       "      <td>Email</td>\n",
       "    </tr>\n",
       "    <tr>\n",
       "      <th>5</th>\n",
       "      <td>5ff1e194b6a9d73a3a9f1052</td>\n",
       "      <td>consumer</td>\n",
       "      <td>2021-01-03 15:24:04.800</td>\n",
       "      <td>2021-01-03 15:25:37.858</td>\n",
       "      <td>True</td>\n",
       "      <td>WI</td>\n",
       "      <td>Email</td>\n",
       "    </tr>\n",
       "    <tr>\n",
       "      <th>8</th>\n",
       "      <td>5ff1e194b6a9d73a3a9f1052</td>\n",
       "      <td>consumer</td>\n",
       "      <td>2021-01-03 15:24:04.800</td>\n",
       "      <td>2021-01-03 15:25:37.858</td>\n",
       "      <td>True</td>\n",
       "      <td>WI</td>\n",
       "      <td>Email</td>\n",
       "    </tr>\n",
       "    <tr>\n",
       "      <th>...</th>\n",
       "      <td>...</td>\n",
       "      <td>...</td>\n",
       "      <td>...</td>\n",
       "      <td>...</td>\n",
       "      <td>...</td>\n",
       "      <td>...</td>\n",
       "      <td>...</td>\n",
       "    </tr>\n",
       "    <tr>\n",
       "      <th>490</th>\n",
       "      <td>54943462e4b07e684157a532</td>\n",
       "      <td>fetch-staff</td>\n",
       "      <td>2014-12-19 14:21:22.381</td>\n",
       "      <td>2021-03-05 16:52:23.204</td>\n",
       "      <td>True</td>\n",
       "      <td>NaN</td>\n",
       "      <td>NaN</td>\n",
       "    </tr>\n",
       "    <tr>\n",
       "      <th>491</th>\n",
       "      <td>54943462e4b07e684157a532</td>\n",
       "      <td>fetch-staff</td>\n",
       "      <td>2014-12-19 14:21:22.381</td>\n",
       "      <td>2021-03-05 16:52:23.204</td>\n",
       "      <td>True</td>\n",
       "      <td>NaN</td>\n",
       "      <td>NaN</td>\n",
       "    </tr>\n",
       "    <tr>\n",
       "      <th>492</th>\n",
       "      <td>54943462e4b07e684157a532</td>\n",
       "      <td>fetch-staff</td>\n",
       "      <td>2014-12-19 14:21:22.381</td>\n",
       "      <td>2021-03-05 16:52:23.204</td>\n",
       "      <td>True</td>\n",
       "      <td>NaN</td>\n",
       "      <td>NaN</td>\n",
       "    </tr>\n",
       "    <tr>\n",
       "      <th>493</th>\n",
       "      <td>54943462e4b07e684157a532</td>\n",
       "      <td>fetch-staff</td>\n",
       "      <td>2014-12-19 14:21:22.381</td>\n",
       "      <td>2021-03-05 16:52:23.204</td>\n",
       "      <td>True</td>\n",
       "      <td>NaN</td>\n",
       "      <td>NaN</td>\n",
       "    </tr>\n",
       "    <tr>\n",
       "      <th>494</th>\n",
       "      <td>54943462e4b07e684157a532</td>\n",
       "      <td>fetch-staff</td>\n",
       "      <td>2014-12-19 14:21:22.381</td>\n",
       "      <td>2021-03-05 16:52:23.204</td>\n",
       "      <td>True</td>\n",
       "      <td>NaN</td>\n",
       "      <td>NaN</td>\n",
       "    </tr>\n",
       "  </tbody>\n",
       "</table>\n",
       "<p>283 rows × 7 columns</p>\n",
       "</div>"
      ],
      "text/plain": [
       "                      user_id         role             createdDate  \\\n",
       "1    5ff1e194b6a9d73a3a9f1052     consumer 2021-01-03 15:24:04.800   \n",
       "2    5ff1e194b6a9d73a3a9f1052     consumer 2021-01-03 15:24:04.800   \n",
       "4    5ff1e194b6a9d73a3a9f1052     consumer 2021-01-03 15:24:04.800   \n",
       "5    5ff1e194b6a9d73a3a9f1052     consumer 2021-01-03 15:24:04.800   \n",
       "8    5ff1e194b6a9d73a3a9f1052     consumer 2021-01-03 15:24:04.800   \n",
       "..                        ...          ...                     ...   \n",
       "490  54943462e4b07e684157a532  fetch-staff 2014-12-19 14:21:22.381   \n",
       "491  54943462e4b07e684157a532  fetch-staff 2014-12-19 14:21:22.381   \n",
       "492  54943462e4b07e684157a532  fetch-staff 2014-12-19 14:21:22.381   \n",
       "493  54943462e4b07e684157a532  fetch-staff 2014-12-19 14:21:22.381   \n",
       "494  54943462e4b07e684157a532  fetch-staff 2014-12-19 14:21:22.381   \n",
       "\n",
       "                  lastLogin  active state signUpSource  \n",
       "1   2021-01-03 15:25:37.858    True    WI        Email  \n",
       "2   2021-01-03 15:25:37.858    True    WI        Email  \n",
       "4   2021-01-03 15:25:37.858    True    WI        Email  \n",
       "5   2021-01-03 15:25:37.858    True    WI        Email  \n",
       "8   2021-01-03 15:25:37.858    True    WI        Email  \n",
       "..                      ...     ...   ...          ...  \n",
       "490 2021-03-05 16:52:23.204    True   NaN          NaN  \n",
       "491 2021-03-05 16:52:23.204    True   NaN          NaN  \n",
       "492 2021-03-05 16:52:23.204    True   NaN          NaN  \n",
       "493 2021-03-05 16:52:23.204    True   NaN          NaN  \n",
       "494 2021-03-05 16:52:23.204    True   NaN          NaN  \n",
       "\n",
       "[283 rows x 7 columns]"
      ]
     },
     "execution_count": 35,
     "metadata": {},
     "output_type": "execute_result"
    }
   ],
   "source": [
    "users[users[\"user_id\"].duplicated()]\n"
   ]
  },
  {
   "cell_type": "code",
   "execution_count": 41,
   "metadata": {},
   "outputs": [
    {
     "data": {
      "text/plain": [
       "np.int64(0)"
      ]
     },
     "execution_count": 41,
     "metadata": {},
     "output_type": "execute_result"
    }
   ],
   "source": [
    "receipts[\"receipt_id\"].duplicated().sum()\n"
   ]
  },
  {
   "cell_type": "code",
   "execution_count": 46,
   "metadata": {},
   "outputs": [
    {
     "data": {
      "text/plain": [
       "np.int64(7333)"
      ]
     },
     "execution_count": 46,
     "metadata": {},
     "output_type": "execute_result"
    }
   ],
   "source": [
    "item_df[\"itemNumber\"].duplicated().sum()"
   ]
  },
  {
   "cell_type": "code",
   "execution_count": 48,
   "metadata": {},
   "outputs": [
    {
     "data": {
      "text/plain": [
       "np.int64(6464)"
      ]
     },
     "execution_count": 48,
     "metadata": {},
     "output_type": "execute_result"
    }
   ],
   "source": [
    "item_df[\"partnerItemId\"].duplicated().sum()\n"
   ]
  },
  {
   "cell_type": "code",
   "execution_count": 50,
   "metadata": {},
   "outputs": [
    {
     "data": {
      "text/plain": [
       "np.int64(0)"
      ]
     },
     "execution_count": 50,
     "metadata": {},
     "output_type": "execute_result"
    }
   ],
   "source": [
    "brands[\"brand_id\"].duplicated().sum()"
   ]
  },
  {
   "cell_type": "markdown",
   "metadata": {},
   "source": [
    "The users dataframe contains a lot of duplicates. Even if it is easy to drop them, we need to understand what is causing them. Is it a process error? Is it a data entry error? users error? "
   ]
  },
  {
   "cell_type": "markdown",
   "metadata": {},
   "source": [
    "## Outliers"
   ]
  },
  {
   "cell_type": "code",
   "execution_count": 51,
   "metadata": {},
   "outputs": [],
   "source": [
    "import matplotlib.pyplot as plt\n",
    "import seaborn as sns\n",
    "from datetime import datetime\n"
   ]
  },
  {
   "cell_type": "code",
   "execution_count": 52,
   "metadata": {},
   "outputs": [
    {
     "data": {
      "image/png": "[encoded data removed]",
      "text/plain": [
       "<Figure size 1000x600 with 1 Axes>"
      ]
     },
     "metadata": {},
     "output_type": "display_data"
    },
    {
     "name": "stdout",
     "output_type": "stream",
     "text": [
      "\n",
      "Summary Statistics for Account Age (days):\n",
      "count     495.000000\n",
      "mean     1544.218182\n",
      "std       509.699019\n",
      "min      1354.000000\n",
      "25%      1372.000000\n",
      "50%      1383.000000\n",
      "75%      1392.000000\n",
      "max      3601.000000\n",
      "Name: account_age_days, dtype: float64\n",
      "\n",
      "Oldest 5 accounts:\n",
      "                      user_id             createdDate  account_age_days  \\\n",
      "475  54943462e4b07e684157a532 2014-12-19 14:21:22.381              3601   \n",
      "476  54943462e4b07e684157a532 2014-12-19 14:21:22.381              3601   \n",
      "477  54943462e4b07e684157a532 2014-12-19 14:21:22.381              3601   \n",
      "478  54943462e4b07e684157a532 2014-12-19 14:21:22.381              3601   \n",
      "479  54943462e4b07e684157a532 2014-12-19 14:21:22.381              3601   \n",
      "\n",
      "            role  \n",
      "475  fetch-staff  \n",
      "476  fetch-staff  \n",
      "477  fetch-staff  \n",
      "478  fetch-staff  \n",
      "479  fetch-staff  \n"
     ]
    }
   ],
   "source": [
    "# Convert createdDate to datetime if not already\n",
    "# users['createdDate'] = pd.to_datetime(users['createdDate'])\n",
    "\n",
    "# Calculate account age in days\n",
    "users[\"account_age_days\"] = (datetime.now() - users[\"createdDate\"]).dt.days\n",
    "\n",
    "# Create figure and axis\n",
    "plt.figure(figsize=(10, 6))\n",
    "\n",
    "# Create boxplot\n",
    "sns.boxplot(y=users[\"account_age_days\"])\n",
    "plt.title(\"Distribution of User Account Ages\")\n",
    "plt.ylabel(\"Account Age (days)\")\n",
    "\n",
    "# Add individual points to see outliers\n",
    "sns.stripplot(y=users[\"account_age_days\"], color=\"red\", alpha=0.3, size=4)\n",
    "\n",
    "plt.show()\n",
    "\n",
    "# Print summary statistics\n",
    "print(\"\\nSummary Statistics for Account Age (days):\")\n",
    "print(users[\"account_age_days\"].describe())\n",
    "\n",
    "# Look at oldest accounts\n",
    "print(\"\\nOldest 5 accounts:\")\n",
    "print(\n",
    "    users.nlargest(5, \"account_age_days\")[\n",
    "        [\"user_id\", \"createdDate\", \"account_age_days\", \"role\"]\n",
    "    ]\n",
    ")\n"
   ]
  },
  {
   "cell_type": "code",
   "execution_count": null,
   "metadata": {},
   "outputs": [],
   "source": []
  }
 ],
 "metadata": {
  "kernelspec": {
   "display_name": ".venv",
   "language": "python",
   "name": "python3"
  },
  "language_info": {
   "codemirror_mode": {
    "name": "ipython",
    "version": 3
   },
   "file_extension": ".py",
   "mimetype": "text/x-python",
   "name": "python",
   "nbconvert_exporter": "python",
   "pygments_lexer": "ipython3",
   "version": "3.11.5"
  }
 },
 "nbformat": 4,
 "nbformat_minor": 2
}
